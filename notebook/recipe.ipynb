{
 "cells": [
  {
   "cell_type": "code",
   "execution_count": 1,
   "metadata": {
    "collapsed": false
   },
   "outputs": [
    {
     "name": "stdout",
     "output_type": "stream",
     "text": [
      "Sun Sep 25 10:50:29 CST 2016\r\n"
     ]
    }
   ],
   "source": [
    "!date"
   ]
  },
  {
   "cell_type": "markdown",
   "metadata": {},
   "source": [
    "# Running recipes in Jupyter notebook\n",
    "\n",
    "In this notebook we will demostrate how to use the chef module to create a dataset"
   ]
  },
  {
   "cell_type": "code",
   "execution_count": 2,
   "metadata": {
    "collapsed": false
   },
   "outputs": [],
   "source": [
    "import os\n",
    "import pandas as pd\n",
    "import json\n",
    "import yaml\n",
    "import numpy as np\n",
    "\n",
    "from ddf_utils import chef\n",
    "\n",
    "import logging\n",
    "logging.basicConfig(level=logging.DEBUG)"
   ]
  },
  {
   "cell_type": "markdown",
   "metadata": {},
   "source": [
    "## loading recipes\n",
    "\n",
    "recipes can be either yaml or json files. Because recipe may include other recipes and translation dictionaries, chef module provides a build_recipe() function to read recipe and expand the recipe with other included files."
   ]
  },
  {
   "cell_type": "code",
   "execution_count": 5,
   "metadata": {
    "collapsed": false
   },
   "outputs": [
    {
     "name": "stdout",
     "output_type": "stream",
     "text": [
      "\n",
      "info:\n",
      "    id: cme-sg-dataset\n",
      "    base:\n",
      "        - &d1 ddf--gapminder--gapminder_world\n",
      "        - &d2 ddf--gapminder--geo_entity_domain\n",
      "        - &d3 ddf--cme\n",
      "\n",
      "config:\n",
      "    ddf_dir: /Users/semio/src/work/Gapminder\n",
      "    recipes_dir: ./\n",
      "    dictionary_dir: ../translation_dictionaries/\n",
      "        \n",
      "include:\n",
      "    - recipe_gw_common.yaml\n",
      "\n",
      "ingredients:\n",
      "    # CME\n",
      "    - id: cme-datapoints\n",
      "      dataset: *d3\n",
      "      key: \"country,year\"\n",
      "      value: ['u5mr_median', 'nmr_median', 'neonatal_deaths_median']\n",
      "    - id: cme-countries\n",
      "      dataset: *d3\n",
      "      key:\n",
      "          - country\n",
      "      value: \"*\"\n",
      "\n",
      "    # GW\n",
      "    - id: gw-entities\n",
      "      dataset: *d2\n",
      "      key: [geo]\n",
      "      value: \"*\"\n",
      "    - id: gw-countries\n",
      "      dataset: *d2\n",
      "      key: [country]\n",
      "      value: \"*\"\n",
      "    - id: gw-concepts-cme\n",
      "      dataset: *d1\n",
      "      key: concept\n",
      "      value: \"*\"\n",
      "      filter:\n",
      "          concept:\n",
      "              - newborn_deaths\n",
      "              - newborn_mortality_rate_per_1000\n",
      "              - under_five_mortality_from_cme_per_1000_born\n",
      "\n",
      "cooking:\n",
      "    concepts:\n",
      "        - procedure: merge\n",
      "          ingredients:\n",
      "              - gw-concepts-cme\n",
      "              - gw-concepts-geo\n",
      "              - gw-concepts-discrete\n",
      "          options:\n",
      "              deep: true\n",
      "          result: cme-concepts-final\n",
      "\n",
      "    entities:\n",
      "        - procedure: identity\n",
      "          ingredients:\n",
      "              - gw-entities\n",
      "            \n",
      "    datapoints:\n",
      "        - procedure: translate_header\n",
      "          options:\n",
      "              dictionary: indicators_cme_to_sg.json\n",
      "          ingredients: [cme-datapoints]\n",
      "          result: cme-datapoints-indicators-translated\n",
      "        - procedure: translate_header\n",
      "          options:\n",
      "              dictionary:\n",
      "                  country: geo\n",
      "                  year: time\n",
      "          ingredients: [cme-datapoints-indicators-translated]\n",
      "          result: cme-datapoints-final\n",
      "\n"
     ]
    }
   ],
   "source": [
    "print(open(\"../tests/recipes/recipe_cme.yaml\").read())  # Note: you should change the ddf_dir to correct path"
   ]
  },
  {
   "cell_type": "code",
   "execution_count": 6,
   "metadata": {
    "collapsed": true
   },
   "outputs": [],
   "source": [
    "recipe = chef.build_recipe(\"../tests/recipes/recipe_cme.yaml\")"
   ]
  },
  {
   "cell_type": "code",
   "execution_count": 7,
   "metadata": {
    "collapsed": false
   },
   "outputs": [
    {
     "name": "stdout",
     "output_type": "stream",
     "text": [
      "{'config': {'ddf_dir': '/Users/semio/src/work/Gapminder',\n",
      "            'dictionary_dir': '../translation_dictionaries/',\n",
      "            'recipes_dir': './'},\n",
      " 'cooking': {'concepts': [{'ingredients': ['gw-concepts-cme',\n",
      "                                           'gw-concepts-geo',\n",
      "                                           'gw-concepts-discrete'],\n",
      "                           'options': AttrDict([('deep', True)]),\n",
      "                           'procedure': 'merge',\n",
      "                           'result': 'cme-concepts-final'}],\n",
      "             'datapoints': [{'ingredients': ['cme-datapoints'],\n",
      "                             'options': {'dictionary': {'neonatal_deaths_median': 'newborn_deaths',\n",
      "                                                        'nmr_median': 'newborn_mortality_rate_per_1000',\n",
      "                                                        'u5mr_median': 'under_five_mortality_from_cme_per_1000_born'}},\n",
      "                             'procedure': 'translate_header',\n",
      "                             'result': 'cme-datapoints-indicators-translated'},\n",
      "                            {'ingredients': ['cme-datapoints-indicators-translated'],\n",
      "                             'options': {'dictionary': {'country': 'geo',\n",
      "                                                        'year': 'time'}},\n",
      "                             'procedure': 'translate_header',\n",
      "                             'result': 'cme-datapoints-final'}],\n",
      "             'entities': [{'ingredients': ['gw-entities'],\n",
      "                           'procedure': 'identity'}]},\n",
      " 'include': ['recipe_gw_common.yaml'],\n",
      " 'info': {'base': ['ddf--gapminder--gapminder_world',\n",
      "                   'ddf--gapminder--geo_entity_domain',\n",
      "                   'ddf--cme'],\n",
      "          'id': 'cme-sg-dataset'},\n",
      " 'ingredients': [{'dataset': 'ddf--gapminder--gapminder_world',\n",
      "                  'filter': {'concept': ['newborn_deaths',\n",
      "                                         'newborn_mortality_rate_per_1000',\n",
      "                                         'under_five_mortality_from_cme_per_1000_born']},\n",
      "                  'id': 'gw-concepts-cme',\n",
      "                  'key': 'concept',\n",
      "                  'value': '*'},\n",
      "                 {'dataset': 'ddf--cme',\n",
      "                  'id': 'cme-datapoints',\n",
      "                  'key': 'country,year',\n",
      "                  'value': ['u5mr_median',\n",
      "                            'nmr_median',\n",
      "                            'neonatal_deaths_median']},\n",
      "                 {'dataset': 'ddf--gapminder--geo_entity_domain',\n",
      "                  'id': 'gw-entities-geo',\n",
      "                  'key': ['geo'],\n",
      "                  'value': '*'},\n",
      "                 {'dataset': 'ddf--gapminder--geo_entity_domain',\n",
      "                  'id': 'gw-countries',\n",
      "                  'key': ['country'],\n",
      "                  'value': '*'},\n",
      "                 {'dataset': 'ddf--gapminder--geo_entity_domain',\n",
      "                  'filter': {'concept': ['geographic_regions',\n",
      "                                         'income_groups',\n",
      "                                         'landlocked',\n",
      "                                         'g77_and_oecd_countries',\n",
      "                                         'geographic_regions_in_4_colors',\n",
      "                                         'main_religion_2008',\n",
      "                                         'geo',\n",
      "                                         'country',\n",
      "                                         'world_4region',\n",
      "                                         'latitude',\n",
      "                                         'longitude',\n",
      "                                         'global',\n",
      "                                         'color',\n",
      "                                         'scales',\n",
      "                                         'drill_up',\n",
      "                                         'domain',\n",
      "                                         'gapminder_list',\n",
      "                                         'alternative_1',\n",
      "                                         'alternative_2',\n",
      "                                         'alternative_3',\n",
      "                                         'alternative_4_cdiac',\n",
      "                                         'pandg',\n",
      "                                         'god_id',\n",
      "                                         'alt_5',\n",
      "                                         'upper_case_name',\n",
      "                                         'code',\n",
      "                                         'number',\n",
      "                                         'gwid',\n",
      "                                         'arb1',\n",
      "                                         'arb2',\n",
      "                                         'arb3',\n",
      "                                         'arb4',\n",
      "                                         'arb5',\n",
      "                                         'arb6',\n",
      "                                         'arb7',\n",
      "                                         'arb8']},\n",
      "                  'id': 'gw-concepts-geo',\n",
      "                  'key': 'concept',\n",
      "                  'value': '*'},\n",
      "                 {'dataset': 'ddf--gapminder--geo_entity_domain',\n",
      "                  'id': 'gw-entities',\n",
      "                  'key': ['geo'],\n",
      "                  'value': '*'},\n",
      "                 {'dataset': 'ddf--gapminder--gapminder_world',\n",
      "                  'filter': {'concept': ['description',\n",
      "                                         'indicator_url',\n",
      "                                         'name',\n",
      "                                         'unit',\n",
      "                                         'interpolation',\n",
      "                                         'age',\n",
      "                                         'time',\n",
      "                                         'name_short',\n",
      "                                         'name_long']},\n",
      "                  'id': 'gw-concepts-discrete',\n",
      "                  'key': 'concept',\n",
      "                  'value': '*'},\n",
      "                 {'dataset': 'ddf--cme',\n",
      "                  'id': 'cme-countries',\n",
      "                  'key': ['country'],\n",
      "                  'value': '*'}]}\n"
     ]
    }
   ],
   "source": [
    "from pprint import pprint\n",
    "\n",
    "pprint(recipe)"
   ]
  },
  {
   "cell_type": "code",
   "execution_count": null,
   "metadata": {
    "collapsed": true
   },
   "outputs": [],
   "source": []
  },
  {
   "cell_type": "markdown",
   "metadata": {},
   "source": [
    "## running the recipe\n",
    "\n",
    "the run_recipe() function from chef module actually run the recipe and return the result DDF as a dictionary of ingredients."
   ]
  },
  {
   "cell_type": "code",
   "execution_count": 8,
   "metadata": {
    "collapsed": false
   },
   "outputs": [
    {
     "name": "stdout",
     "output_type": "stream",
     "text": [
      "running concepts\n",
      "running entities\n",
      "running datapoints\n"
     ]
    }
   ],
   "source": [
    "res = chef.run_recipe(recipe)"
   ]
  },
  {
   "cell_type": "code",
   "execution_count": 9,
   "metadata": {
    "collapsed": false
   },
   "outputs": [
    {
     "data": {
      "text/plain": [
       "dict_keys(['entities', 'datapoints', 'concepts'])"
      ]
     },
     "execution_count": 9,
     "metadata": {},
     "output_type": "execute_result"
    }
   ],
   "source": [
    "res.keys()"
   ]
  },
  {
   "cell_type": "markdown",
   "metadata": {},
   "source": [
    "### entities"
   ]
  },
  {
   "cell_type": "code",
   "execution_count": 12,
   "metadata": {
    "collapsed": false
   },
   "outputs": [],
   "source": [
    "entities = res['entities'].get_data()"
   ]
  },
  {
   "cell_type": "code",
   "execution_count": 13,
   "metadata": {
    "collapsed": false
   },
   "outputs": [
    {
     "data": {
      "text/plain": [
       "dict_keys(['main_religion_2008', 'g77_and_oecd_countries', 'world_4region', 'geographic_regions_in_4_colors', 'income_groups', 'geographic_regions', 'global', 'country', 'landlocked'])"
      ]
     },
     "execution_count": 13,
     "metadata": {},
     "output_type": "execute_result"
    }
   ],
   "source": [
    "entities.keys()  # in the recipe we include all geo entities from GW, so they are."
   ]
  },
  {
   "cell_type": "code",
   "execution_count": 14,
   "metadata": {
    "collapsed": false
   },
   "outputs": [
    {
     "data": {
      "text/html": [
       "<div>\n",
       "<table border=\"1\" class=\"dataframe\">\n",
       "  <thead>\n",
       "    <tr style=\"text-align: right;\">\n",
       "      <th></th>\n",
       "      <th>main_religion_2008</th>\n",
       "      <th>name</th>\n",
       "      <th>gwid</th>\n",
       "      <th>is--main_religion_2008</th>\n",
       "    </tr>\n",
       "  </thead>\n",
       "  <tbody>\n",
       "    <tr>\n",
       "      <th>0</th>\n",
       "      <td>muslim</td>\n",
       "      <td>Muslim</td>\n",
       "      <td>i280</td>\n",
       "      <td>TRUE</td>\n",
       "    </tr>\n",
       "    <tr>\n",
       "      <th>1</th>\n",
       "      <td>eastern_religions</td>\n",
       "      <td>Eastern religions</td>\n",
       "      <td>i281</td>\n",
       "      <td>TRUE</td>\n",
       "    </tr>\n",
       "    <tr>\n",
       "      <th>2</th>\n",
       "      <td>christian</td>\n",
       "      <td>Christian</td>\n",
       "      <td>i279</td>\n",
       "      <td>TRUE</td>\n",
       "    </tr>\n",
       "  </tbody>\n",
       "</table>\n",
       "</div>"
      ],
      "text/plain": [
       "  main_religion_2008               name  gwid is--main_religion_2008\n",
       "0             muslim             Muslim  i280                   TRUE\n",
       "1  eastern_religions  Eastern religions  i281                   TRUE\n",
       "2          christian          Christian  i279                   TRUE"
      ]
     },
     "execution_count": 14,
     "metadata": {},
     "output_type": "execute_result"
    }
   ],
   "source": [
    "entities['main_religion_2008']"
   ]
  },
  {
   "cell_type": "markdown",
   "metadata": {},
   "source": [
    "### datapoints"
   ]
  },
  {
   "cell_type": "code",
   "execution_count": 15,
   "metadata": {
    "collapsed": true
   },
   "outputs": [],
   "source": [
    "dps = res['datapoints'].get_data()"
   ]
  },
  {
   "cell_type": "code",
   "execution_count": 16,
   "metadata": {
    "collapsed": false
   },
   "outputs": [
    {
     "data": {
      "text/plain": [
       "dict_keys(['under_five_mortality_from_cme_per_1000_born', 'newborn_deaths', 'newborn_mortality_rate_per_1000'])"
      ]
     },
     "execution_count": 16,
     "metadata": {},
     "output_type": "execute_result"
    }
   ],
   "source": [
    "dps.keys()"
   ]
  },
  {
   "cell_type": "code",
   "execution_count": 17,
   "metadata": {
    "collapsed": false
   },
   "outputs": [
    {
     "data": {
      "text/html": [
       "<div>\n",
       "<table border=\"1\" class=\"dataframe\">\n",
       "  <thead>\n",
       "    <tr style=\"text-align: right;\">\n",
       "      <th></th>\n",
       "      <th>geo</th>\n",
       "      <th>time</th>\n",
       "      <th>under_five_mortality_from_cme_per_1000_born</th>\n",
       "    </tr>\n",
       "  </thead>\n",
       "  <tbody>\n",
       "    <tr>\n",
       "      <th>0</th>\n",
       "      <td>afg</td>\n",
       "      <td>1961</td>\n",
       "      <td>356.5</td>\n",
       "    </tr>\n",
       "    <tr>\n",
       "      <th>1</th>\n",
       "      <td>afg</td>\n",
       "      <td>1962</td>\n",
       "      <td>350.6</td>\n",
       "    </tr>\n",
       "    <tr>\n",
       "      <th>2</th>\n",
       "      <td>afg</td>\n",
       "      <td>1963</td>\n",
       "      <td>345.0</td>\n",
       "    </tr>\n",
       "    <tr>\n",
       "      <th>3</th>\n",
       "      <td>afg</td>\n",
       "      <td>1964</td>\n",
       "      <td>339.7</td>\n",
       "    </tr>\n",
       "    <tr>\n",
       "      <th>4</th>\n",
       "      <td>afg</td>\n",
       "      <td>1965</td>\n",
       "      <td>334.1</td>\n",
       "    </tr>\n",
       "  </tbody>\n",
       "</table>\n",
       "</div>"
      ],
      "text/plain": [
       "   geo  time  under_five_mortality_from_cme_per_1000_born\n",
       "0  afg  1961                                        356.5\n",
       "1  afg  1962                                        350.6\n",
       "2  afg  1963                                        345.0\n",
       "3  afg  1964                                        339.7\n",
       "4  afg  1965                                        334.1"
      ]
     },
     "execution_count": 17,
     "metadata": {},
     "output_type": "execute_result"
    }
   ],
   "source": [
    "dps['under_five_mortality_from_cme_per_1000_born'].head()"
   ]
  },
  {
   "cell_type": "code",
   "execution_count": null,
   "metadata": {
    "collapsed": true
   },
   "outputs": [],
   "source": []
  },
  {
   "cell_type": "markdown",
   "metadata": {},
   "source": [
    "### concepts"
   ]
  },
  {
   "cell_type": "code",
   "execution_count": 19,
   "metadata": {
    "collapsed": true
   },
   "outputs": [],
   "source": [
    "concepts = res['concepts'].get_data()"
   ]
  },
  {
   "cell_type": "code",
   "execution_count": 20,
   "metadata": {
    "collapsed": false
   },
   "outputs": [
    {
     "data": {
      "text/plain": [
       "dict_keys(['concept'])"
      ]
     },
     "execution_count": 20,
     "metadata": {},
     "output_type": "execute_result"
    }
   ],
   "source": [
    "concepts.keys()"
   ]
  },
  {
   "cell_type": "code",
   "execution_count": 22,
   "metadata": {
    "collapsed": false
   },
   "outputs": [
    {
     "data": {
      "text/plain": [
       "array(['under_five_mortality_from_cme_per_1000_born',\n",
       "       'newborn_mortality_rate_per_1000', 'newborn_deaths',\n",
       "       'geographic_regions', 'income_groups', 'landlocked',\n",
       "       'g77_and_oecd_countries', 'geographic_regions_in_4_colors',\n",
       "       'main_religion_2008', 'geo', 'country', 'world_4region', 'latitude',\n",
       "       'longitude', 'global', 'gapminder_list', 'alternative_1',\n",
       "       'alternative_2', 'alternative_3', 'alternative_4_cdiac', 'pandg',\n",
       "       'god_id', 'alt_5', 'upper_case_name', 'code', 'number', 'gwid',\n",
       "       'arb1', 'arb2', 'arb3', 'arb4', 'arb5', 'arb6', 'arb7', 'domain',\n",
       "       'scales', 'color', 'drill_up', 'description', 'indicator_url',\n",
       "       'name', 'unit', 'interpolation', 'name_short', 'name_long', 'age',\n",
       "       'time'], dtype=object)"
      ]
     },
     "execution_count": 22,
     "metadata": {},
     "output_type": "execute_result"
    }
   ],
   "source": [
    "concepts['concept'].concept.values"
   ]
  },
  {
   "cell_type": "code",
   "execution_count": null,
   "metadata": {
    "collapsed": true
   },
   "outputs": [],
   "source": []
  }
 ],
 "metadata": {
  "kernelspec": {
   "display_name": "Python 3",
   "language": "python",
   "name": "python3"
  },
  "language_info": {
   "codemirror_mode": {
    "name": "ipython",
    "version": 3
   },
   "file_extension": ".py",
   "mimetype": "text/x-python",
   "name": "python",
   "nbconvert_exporter": "python",
   "pygments_lexer": "ipython3",
   "version": "3.5.2"
  }
 },
 "nbformat": 4,
 "nbformat_minor": 0
}
