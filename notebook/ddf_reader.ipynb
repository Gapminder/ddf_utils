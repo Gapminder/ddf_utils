{
 "cells": [
  {
   "cell_type": "code",
   "execution_count": 1,
   "metadata": {
    "collapsed": false
   },
   "outputs": [
    {
     "name": "stdout",
     "output_type": "stream",
     "text": [
      "Wed Nov 23 15:35:12 CST 2016\r\n"
     ]
    }
   ],
   "source": [
    "!date"
   ]
  },
  {
   "cell_type": "markdown",
   "metadata": {},
   "source": [
    "# example usage for ddf_reader module"
   ]
  },
  {
   "cell_type": "code",
   "execution_count": 2,
   "metadata": {
    "collapsed": true
   },
   "outputs": [],
   "source": [
    "import pandas as pd\n",
    "import os\n",
    "import json"
   ]
  },
  {
   "cell_type": "code",
   "execution_count": 3,
   "metadata": {
    "collapsed": true
   },
   "outputs": [],
   "source": [
    "import ddf_utils\n",
    "from ddf_utils.index import get_datapackage\n",
    "from ddf_utils.ddf_reader import *"
   ]
  },
  {
   "cell_type": "code",
   "execution_count": 4,
   "metadata": {
    "collapsed": true
   },
   "outputs": [],
   "source": [
    "# config\n",
    "ddf_utils.config.DDF_SEARCH_PATH = os.path.abspath('../../')"
   ]
  },
  {
   "cell_type": "code",
   "execution_count": 5,
   "metadata": {
    "collapsed": false
   },
   "outputs": [
    {
     "data": {
      "text/plain": [
       "['ddf--bp--energy',\n",
       " 'ddf--cdiac-co2',\n",
       " 'ddf--cme',\n",
       " 'ddf--cred--em_dat',\n",
       " 'ddf--fao--aquastat',\n",
       " 'ddf--fao--food_supply',\n",
       " 'ddf--fao--forestry',\n",
       " 'ddf--gapminder--co2_emission',\n",
       " 'ddf--gapminder--dont_panic_poverty',\n",
       " 'ddf--gapminder--dummy_companies',\n",
       " 'ddf--gapminder--gapminder_world',\n",
       " 'ddf--gapminder--gdp_per_capita_cppp',\n",
       " 'ddf--gapminder--geo_entity_domain',\n",
       " 'ddf--gapminder--hist_gdppc',\n",
       " 'ddf--gapminder--hist_hiv',\n",
       " 'ddf--gapminder--hist_imr',\n",
       " 'ddf--gapminder--hist_lex',\n",
       " 'ddf--gapminder--hist_marriage_age',\n",
       " 'ddf--gapminder--hist_maternal_mort',\n",
       " 'ddf--gapminder--hist_pop',\n",
       " 'ddf--gapminder--hist_tfr',\n",
       " 'ddf--gapminder--hist_u5mr',\n",
       " 'ddf--gapminder--life_expectancy',\n",
       " 'ddf--gapminder--population',\n",
       " 'ddf--gapminder--systema_globalis',\n",
       " 'ddf--ihme-lex',\n",
       " 'ddf--ilo--global_wage',\n",
       " 'ddf--ilo--kilm_employment_pop',\n",
       " 'ddf--ilo--kilm_employment_sector',\n",
       " 'ddf--ilo--kilm_employment_status',\n",
       " 'ddf--ilo--kilm_hours_work',\n",
       " 'ddf--ilo--kilm_labour_prod',\n",
       " 'ddf--ilo--kilm_lf',\n",
       " 'ddf--ilo--kilm_long_term_unemploy',\n",
       " 'ddf--ilo--kilm_wage_compensation',\n",
       " 'ddf--imperial--metabolic',\n",
       " 'ddf--locked_numbers--ikea_cities_2016',\n",
       " 'ddf--oecd--dac',\n",
       " 'ddf--pwt--penn_world_table',\n",
       " 'ddf--testing--dummy',\n",
       " 'ddf--transpint--corrupton',\n",
       " 'ddf--uis--stats',\n",
       " 'ddf--un--contraceptive_prevalence',\n",
       " 'ddf--un--unmet_need',\n",
       " 'ddf--unaids--aidsinfo',\n",
       " 'ddf--unpop--wpp_demog',\n",
       " 'ddf--unpop--wpp_pop',\n",
       " 'ddf--wb--edu',\n",
       " 'ddf--who--gho',\n",
       " 'ddf--world_bank--world_development_indicators',\n",
       " 'sg-dev']"
      ]
     },
     "execution_count": 5,
     "metadata": {},
     "output_type": "execute_result"
    }
   ],
   "source": [
    "# list all datasets\n",
    "list_datasets()"
   ]
  },
  {
   "cell_type": "code",
   "execution_count": 6,
   "metadata": {
    "collapsed": false
   },
   "outputs": [],
   "source": [
    "# creat a DDF instance by initialing it with the folder name of that dataset\n",
    "ddf = DDF('ddf--gapminder--life_expectancy')"
   ]
  },
  {
   "cell_type": "code",
   "execution_count": 7,
   "metadata": {
    "collapsed": false
   },
   "outputs": [],
   "source": [
    "res = ddf.get_datapoint_df('life_expectancy')"
   ]
  },
  {
   "cell_type": "code",
   "execution_count": 8,
   "metadata": {
    "collapsed": false
   },
   "outputs": [
    {
     "data": {
      "text/html": [
       "<div>\n",
       "<table border=\"1\" class=\"dataframe\">\n",
       "  <thead>\n",
       "    <tr style=\"text-align: right;\">\n",
       "      <th></th>\n",
       "      <th></th>\n",
       "      <th>life_expectancy</th>\n",
       "    </tr>\n",
       "    <tr>\n",
       "      <th>geo</th>\n",
       "      <th>time</th>\n",
       "      <th></th>\n",
       "    </tr>\n",
       "  </thead>\n",
       "  <tbody>\n",
       "    <tr>\n",
       "      <th rowspan=\"5\" valign=\"top\">afg</th>\n",
       "      <th>1800</th>\n",
       "      <td>28.21</td>\n",
       "    </tr>\n",
       "    <tr>\n",
       "      <th>1801</th>\n",
       "      <td>28.20</td>\n",
       "    </tr>\n",
       "    <tr>\n",
       "      <th>1802</th>\n",
       "      <td>28.19</td>\n",
       "    </tr>\n",
       "    <tr>\n",
       "      <th>1803</th>\n",
       "      <td>28.18</td>\n",
       "    </tr>\n",
       "    <tr>\n",
       "      <th>1804</th>\n",
       "      <td>28.17</td>\n",
       "    </tr>\n",
       "  </tbody>\n",
       "</table>\n",
       "</div>"
      ],
      "text/plain": [
       "          life_expectancy\n",
       "geo time                 \n",
       "afg 1800            28.21\n",
       "    1801            28.20\n",
       "    1802            28.19\n",
       "    1803            28.18\n",
       "    1804            28.17"
      ]
     },
     "execution_count": 8,
     "metadata": {},
     "output_type": "execute_result"
    }
   ],
   "source": [
    "res.head()"
   ]
  },
  {
   "cell_type": "code",
   "execution_count": 9,
   "metadata": {
    "collapsed": false
   },
   "outputs": [],
   "source": [
    "res2 = ddf.get_concepts()"
   ]
  },
  {
   "cell_type": "code",
   "execution_count": 20,
   "metadata": {
    "collapsed": false
   },
   "outputs": [
    {
     "data": {
      "text/html": [
       "<div>\n",
       "<table border=\"1\" class=\"dataframe\">\n",
       "  <thead>\n",
       "    <tr style=\"text-align: right;\">\n",
       "      <th></th>\n",
       "      <th>name</th>\n",
       "      <th>concept_type</th>\n",
       "      <th>indicator_url</th>\n",
       "    </tr>\n",
       "    <tr>\n",
       "      <th>concept</th>\n",
       "      <th></th>\n",
       "      <th></th>\n",
       "      <th></th>\n",
       "    </tr>\n",
       "  </thead>\n",
       "  <tbody>\n",
       "    <tr>\n",
       "      <th>name</th>\n",
       "      <td>Name</td>\n",
       "      <td>string</td>\n",
       "      <td>NaN</td>\n",
       "    </tr>\n",
       "    <tr>\n",
       "      <th>time</th>\n",
       "      <td>Time</td>\n",
       "      <td>time</td>\n",
       "      <td>NaN</td>\n",
       "    </tr>\n",
       "    <tr>\n",
       "      <th>life_expectancy</th>\n",
       "      <td>Life expectancy</td>\n",
       "      <td>measure</td>\n",
       "      <td>https://github.com/open-numbers/ddf--gapminder...</td>\n",
       "    </tr>\n",
       "    <tr>\n",
       "      <th>geo</th>\n",
       "      <td>Country</td>\n",
       "      <td>entity_domain</td>\n",
       "      <td>NaN</td>\n",
       "    </tr>\n",
       "    <tr>\n",
       "      <th>indicator_url</th>\n",
       "      <td>Indicator URL</td>\n",
       "      <td>string</td>\n",
       "      <td>NaN</td>\n",
       "    </tr>\n",
       "  </tbody>\n",
       "</table>\n",
       "</div>"
      ],
      "text/plain": [
       "                            name   concept_type  \\\n",
       "concept                                           \n",
       "name                        Name         string   \n",
       "time                        Time           time   \n",
       "life_expectancy  Life expectancy        measure   \n",
       "geo                      Country  entity_domain   \n",
       "indicator_url      Indicator URL         string   \n",
       "\n",
       "                                                     indicator_url  \n",
       "concept                                                             \n",
       "name                                                           NaN  \n",
       "time                                                           NaN  \n",
       "life_expectancy  https://github.com/open-numbers/ddf--gapminder...  \n",
       "geo                                                            NaN  \n",
       "indicator_url                                                  NaN  "
      ]
     },
     "execution_count": 20,
     "metadata": {},
     "output_type": "execute_result"
    }
   ],
   "source": [
    "res2"
   ]
  },
  {
   "cell_type": "code",
   "execution_count": 11,
   "metadata": {
    "collapsed": false
   },
   "outputs": [
    {
     "data": {
      "text/plain": [
       "['ddf--concepts.csv',\n",
       " 'ddf--datapoints--life_expectancy--by--geo--time.csv',\n",
       " 'ddf--entities--geo.csv']"
      ]
     },
     "execution_count": 11,
     "metadata": {},
     "output_type": "execute_result"
    }
   ],
   "source": [
    "ddf.get_all_files()"
   ]
  },
  {
   "cell_type": "code",
   "execution_count": 14,
   "metadata": {
    "collapsed": false,
    "scrolled": false
   },
   "outputs": [
    {
     "data": {
      "text/plain": [
       "{'life_expectancy': {('geo',\n",
       "   'time'): ['ddf--datapoints--life_expectancy--by--geo--time.csv']}}"
      ]
     },
     "execution_count": 14,
     "metadata": {},
     "output_type": "execute_result"
    }
   ],
   "source": [
    "ddf.get_datapoint_files()"
   ]
  },
  {
   "cell_type": "code",
   "execution_count": null,
   "metadata": {
    "collapsed": true
   },
   "outputs": [],
   "source": []
  },
  {
   "cell_type": "code",
   "execution_count": 15,
   "metadata": {
    "collapsed": false
   },
   "outputs": [],
   "source": [
    "ddf = DDF('ddf--gapminder--geo_entity_domain')"
   ]
  },
  {
   "cell_type": "code",
   "execution_count": 16,
   "metadata": {
    "collapsed": false
   },
   "outputs": [],
   "source": [
    "ent = ddf.get_entities()"
   ]
  },
  {
   "cell_type": "code",
   "execution_count": 17,
   "metadata": {
    "collapsed": false
   },
   "outputs": [
    {
     "data": {
      "text/plain": [
       "dict_keys(['world_6region', 'landlocked', 'global', 'world_4region', 'g77_and_oecd_countries', 'country', 'main_religion_2008', 'income_groups'])"
      ]
     },
     "execution_count": 17,
     "metadata": {},
     "output_type": "execute_result"
    }
   ],
   "source": [
    "ent.keys()"
   ]
  },
  {
   "cell_type": "code",
   "execution_count": 18,
   "metadata": {
    "collapsed": false,
    "scrolled": false
   },
   "outputs": [
    {
     "data": {
      "text/html": [
       "<div>\n",
       "<table border=\"1\" class=\"dataframe\">\n",
       "  <thead>\n",
       "    <tr style=\"text-align: right;\">\n",
       "      <th></th>\n",
       "      <th>rank</th>\n",
       "      <th>is--world_4region</th>\n",
       "      <th>name</th>\n",
       "      <th>name_short</th>\n",
       "      <th>name_long</th>\n",
       "      <th>description</th>\n",
       "      <th>latitude</th>\n",
       "      <th>longitude</th>\n",
       "      <th>color</th>\n",
       "      <th>shape_lores_svg</th>\n",
       "    </tr>\n",
       "    <tr>\n",
       "      <th>geo</th>\n",
       "      <th></th>\n",
       "      <th></th>\n",
       "      <th></th>\n",
       "      <th></th>\n",
       "      <th></th>\n",
       "      <th></th>\n",
       "      <th></th>\n",
       "      <th></th>\n",
       "      <th></th>\n",
       "      <th></th>\n",
       "    </tr>\n",
       "  </thead>\n",
       "  <tbody>\n",
       "    <tr>\n",
       "      <th>africa</th>\n",
       "      <td>2</td>\n",
       "      <td>True</td>\n",
       "      <td>Africa</td>\n",
       "      <td>Africa</td>\n",
       "      <td>The African continent including Madagascar &amp; o...</td>\n",
       "      <td>The entire African continent, Madagascar and s...</td>\n",
       "      <td>-14.33333</td>\n",
       "      <td>28.50000</td>\n",
       "      <td>#00d5e9</td>\n",
       "      <td>M322.7,114.7l-1-1.8l-6.5,2.3l-16-4.8l-2.3,1.7l...</td>\n",
       "    </tr>\n",
       "    <tr>\n",
       "      <th>europe</th>\n",
       "      <td>4</td>\n",
       "      <td>True</td>\n",
       "      <td>Europe</td>\n",
       "      <td>Europe</td>\n",
       "      <td>Central Asia, East &amp; West Europe</td>\n",
       "      <td>West &amp; East Europe including all of Russia and...</td>\n",
       "      <td>50.75000</td>\n",
       "      <td>4.50000</td>\n",
       "      <td>#ffe700</td>\n",
       "      <td>M556.7,26.9l-35.5-7.3l-3.5,1.4l-49.9-5.2l-2.7,...</td>\n",
       "    </tr>\n",
       "    <tr>\n",
       "      <th>americas</th>\n",
       "      <td>3</td>\n",
       "      <td>True</td>\n",
       "      <td>The Americas</td>\n",
       "      <td>America</td>\n",
       "      <td>North, South &amp; Central America</td>\n",
       "      <td>North, South &amp; central America make up roughly...</td>\n",
       "      <td>8.99360</td>\n",
       "      <td>-79.51973</td>\n",
       "      <td>#7feb00</td>\n",
       "      <td>M134.8,152l-11.4,1.8l-3.1-1.7l5.3-1.3l-0.7-1.1...</td>\n",
       "    </tr>\n",
       "    <tr>\n",
       "      <th>asia</th>\n",
       "      <td>1</td>\n",
       "      <td>True</td>\n",
       "      <td>Asia</td>\n",
       "      <td>Asia</td>\n",
       "      <td>Australia, Pacific Islands, South &amp; South East...</td>\n",
       "      <td>Asia as defined by Gapmidner, to make up rough...</td>\n",
       "      <td>16.16667</td>\n",
       "      <td>107.83333</td>\n",
       "      <td>#ff5872</td>\n",
       "      <td>M322.9,118.9l22.8,42.5l13.5-5.9l16.8-19l-7.3-6...</td>\n",
       "    </tr>\n",
       "  </tbody>\n",
       "</table>\n",
       "</div>"
      ],
      "text/plain": [
       "          rank is--world_4region          name name_short  \\\n",
       "geo                                                         \n",
       "africa       2              True        Africa     Africa   \n",
       "europe       4              True        Europe     Europe   \n",
       "americas     3              True  The Americas    America   \n",
       "asia         1              True          Asia       Asia   \n",
       "\n",
       "                                                  name_long  \\\n",
       "geo                                                           \n",
       "africa    The African continent including Madagascar & o...   \n",
       "europe                    Central Asia, East & West Europe    \n",
       "americas                     North, South & Central America   \n",
       "asia      Australia, Pacific Islands, South & South East...   \n",
       "\n",
       "                                                description  latitude  \\\n",
       "geo                                                                     \n",
       "africa    The entire African continent, Madagascar and s... -14.33333   \n",
       "europe    West & East Europe including all of Russia and...  50.75000   \n",
       "americas  North, South & central America make up roughly...   8.99360   \n",
       "asia      Asia as defined by Gapmidner, to make up rough...  16.16667   \n",
       "\n",
       "          longitude    color  \\\n",
       "geo                            \n",
       "africa     28.50000  #00d5e9   \n",
       "europe      4.50000  #ffe700   \n",
       "americas  -79.51973  #7feb00   \n",
       "asia      107.83333  #ff5872   \n",
       "\n",
       "                                            shape_lores_svg  \n",
       "geo                                                          \n",
       "africa    M322.7,114.7l-1-1.8l-6.5,2.3l-16-4.8l-2.3,1.7l...  \n",
       "europe    M556.7,26.9l-35.5-7.3l-3.5,1.4l-49.9-5.2l-2.7,...  \n",
       "americas  M134.8,152l-11.4,1.8l-3.1-1.7l5.3-1.3l-0.7-1.1...  \n",
       "asia      M322.9,118.9l22.8,42.5l13.5-5.9l16.8-19l-7.3-6...  "
      ]
     },
     "execution_count": 18,
     "metadata": {},
     "output_type": "execute_result"
    }
   ],
   "source": [
    "ent['world_4region']"
   ]
  }
 ],
 "metadata": {
  "kernelspec": {
   "display_name": "Python 3",
   "language": "python",
   "name": "python3"
  },
  "language_info": {
   "codemirror_mode": {
    "name": "ipython",
    "version": 3
   },
   "file_extension": ".py",
   "mimetype": "text/x-python",
   "name": "python",
   "nbconvert_exporter": "python",
   "pygments_lexer": "ipython3",
   "version": "3.5.2"
  }
 },
 "nbformat": 4,
 "nbformat_minor": 0
}
